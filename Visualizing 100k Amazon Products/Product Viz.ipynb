{
 "cells": [
  {
   "cell_type": "markdown",
   "metadata": {},
   "source": [
    "# Visualizing Amazon Products"
   ]
  },
  {
   "cell_type": "code",
   "execution_count": 1,
   "metadata": {},
   "outputs": [],
   "source": [
    "import numpy as np\n",
    "import pandas as pd\n",
    "import h5py\n",
    "from fse.models import SIF\n",
    "\n",
    "import logging\n",
    "logging.basicConfig(format='%(asctime)s : %(threadName)s : %(levelname)s : %(message)s', level=logging.INFO)"
   ]
  },
  {
   "cell_type": "code",
   "execution_count": 2,
   "metadata": {},
   "outputs": [],
   "source": [
    "PATH_DATA = \"/Volumes/Ext_HDD/Research_Data/RAW/\"\n",
    "PATH_META = \"/Volumes/Ext_HDD/Research_Data/Meta/\"\n",
    "\n",
    "DATA_COLUMNS = [\"asin\", \"reviewText\"]\n",
    "META_COLUMNS = ['asin', 'brand', 'title', 'price', 'categories', 'description']\n",
    "\n",
    "def load_data(category, asins=None):\n",
    "    reviews = pd.DataFrame(columns=DATA_COLUMNS)\n",
    "    with h5py.File(get_data_path(PATH_DATA, category), 'r') as hf:\n",
    "        for c in DATA_COLUMNS:\n",
    "            reviews[c] = hf[c]\n",
    "    if asins is not None:\n",
    "        reviews = reviews.query(\"asin in @asins\")\n",
    "    return reviews\n",
    "\n",
    "def get_data_path(path_data, category):\n",
    "    return f\"{path_data}reviews_{category}\"\n",
    "\n",
    "def get_meta_path(path_meta, category):\n",
    "    return f\"{path_meta}{category}.pickle\""
   ]
  },
  {
   "cell_type": "code",
   "execution_count": 3,
   "metadata": {},
   "outputs": [],
   "source": [
    "cat = \"Electronics\""
   ]
  },
  {
   "cell_type": "code",
   "execution_count": 4,
   "metadata": {},
   "outputs": [],
   "source": [
    "meta = pd.read_pickle(get_meta_path(PATH_META, cat))"
   ]
  },
  {
   "cell_type": "code",
   "execution_count": 5,
   "metadata": {},
   "outputs": [],
   "source": [
    "data = load_data(cat, asins=meta.index.unique())"
   ]
  },
  {
   "cell_type": "code",
   "execution_count": 6,
   "metadata": {},
   "outputs": [],
   "source": [
    "out = np.unique(data.asin, return_counts=True)\n",
    "sel = out[0][out[1]>=10]"
   ]
  },
  {
   "cell_type": "code",
   "execution_count": 7,
   "metadata": {},
   "outputs": [
    {
     "name": "stdout",
     "output_type": "stream",
     "text": [
      "97249\n"
     ]
    }
   ],
   "source": [
    "data = data[data.asin.isin(sel)]\n",
    "meta = meta[meta.index.isin(sel)]\n",
    "data = data.sample(frac=1)\n",
    "print(len(meta))"
   ]
  },
  {
   "cell_type": "code",
   "execution_count": 8,
   "metadata": {},
   "outputs": [],
   "source": [
    "from fse import SplitCIndexedList\n",
    "from collections import defaultdict\n",
    "\n",
    "ASIN_TO_IDX = {asin : index for index, asin in enumerate(meta.index)}\n",
    "ASIN_TO_COUNT = defaultdict(int)\n",
    "IDX_TO_ASIN = [asin for asin in meta.index]\n",
    "\n",
    "indexed_reviews = SplitCIndexedList(data.reviewText.values, custom_index = [ASIN_TO_IDX[asin] for asin in data.asin])\n",
    "\n",
    "for asin in data.asin:\n",
    "    ASIN_TO_COUNT[asin] += 1"
   ]
  },
  {
   "cell_type": "code",
   "execution_count": 10,
   "metadata": {},
   "outputs": [
    {
     "name": "stderr",
     "output_type": "stream",
     "text": [
      "2019-09-11 09:21:20,896 : MainThread : INFO : loading FastTextKeyedVectors object from /home/ubuntu/fsedev/models/ft_crawl_300d_2m.model\n",
      "2019-09-11 09:21:28,273 : MainThread : INFO : loading vectors from /home/ubuntu/fsedev/models/ft_crawl_300d_2m.model.vectors.npy with mmap=None\n",
      "2019-09-11 09:21:53,556 : MainThread : INFO : loading vectors_vocab from /home/ubuntu/fsedev/models/ft_crawl_300d_2m.model.vectors_vocab.npy with mmap=None\n",
      "2019-09-11 09:22:19,370 : MainThread : INFO : loading vectors_ngrams from /home/ubuntu/fsedev/models/ft_crawl_300d_2m.model.vectors_ngrams.npy with mmap=None\n",
      "2019-09-11 09:22:45,435 : MainThread : INFO : setting ignored attribute vectors_norm to None\n",
      "2019-09-11 09:22:45,442 : MainThread : INFO : setting ignored attribute vectors_vocab_norm to None\n",
      "2019-09-11 09:22:45,444 : MainThread : INFO : setting ignored attribute vectors_ngrams_norm to None\n",
      "2019-09-11 09:22:45,446 : MainThread : INFO : setting ignored attribute buckets_word to None\n",
      "2019-09-11 09:22:45,447 : MainThread : INFO : loaded /home/ubuntu/fsedev/models/ft_crawl_300d_2m.model\n"
     ]
    }
   ],
   "source": [
    "from gensim.models.keyedvectors import FastTextKeyedVectors\n",
    "ft = FastTextKeyedVectors.load(\"/home/ubuntu/fsedev/models/ft_crawl_300d_2m.model\")"
   ]
  },
  {
   "cell_type": "code",
   "execution_count": 11,
   "metadata": {},
   "outputs": [
    {
     "name": "stderr",
     "output_type": "stream",
     "text": [
      "2019-09-11 09:22:45,484 : MainThread : INFO : scanning all indexed sentences and their word counts\n",
      "2019-09-11 09:22:50,486 : MainThread : INFO : SCANNING : finished 599965 sentences with 51660946 words\n",
      "2019-09-11 09:22:55,486 : MainThread : INFO : SCANNING : finished 1246719 sentences with 107503549 words\n",
      "2019-09-11 09:23:00,486 : MainThread : INFO : SCANNING : finished 1890246 sentences with 163003891 words\n",
      "2019-09-11 09:23:05,486 : MainThread : INFO : SCANNING : finished 2535917 sentences with 218701908 words\n",
      "2019-09-11 09:23:10,486 : MainThread : INFO : SCANNING : finished 3209470 sentences with 276692279 words\n",
      "2019-09-11 09:23:15,486 : MainThread : INFO : SCANNING : finished 3843162 sentences with 331480729 words\n",
      "2019-09-11 09:23:20,486 : MainThread : INFO : SCANNING : finished 4489106 sentences with 387356471 words\n",
      "2019-09-11 09:23:25,486 : MainThread : INFO : SCANNING : finished 5187271 sentences with 447601765 words\n",
      "2019-09-11 09:23:30,486 : MainThread : INFO : SCANNING : finished 5880926 sentences with 507558384 words\n",
      "2019-09-11 09:23:35,486 : MainThread : INFO : SCANNING : finished 6576690 sentences with 567676454 words\n",
      "2019-09-11 09:23:37,666 : MainThread : WARNING : found 3254 empty sentences\n",
      "2019-09-11 09:23:37,667 : MainThread : INFO : finished scanning 6878784 sentences with an average length of 86 and 593774622 total words\n",
      "2019-09-11 09:23:38,666 : MainThread : INFO : estimated memory for 97249 sentences with 300 dimensions and 2000000 vocabulary: 6985 MB (6 GB)\n",
      "2019-09-11 09:23:38,667 : MainThread : INFO : initializing sentence vectors for 97249 sentences\n",
      "2019-09-11 09:23:39,058 : MainThread : INFO : pre-computing SIF weights for 2000000 words\n",
      "2019-09-11 09:23:40,767 : MainThread : INFO : begin training\n",
      "2019-09-11 09:23:45,890 : MainThread : INFO : PROGRESS : finished 0.67% with 46399 sentences and 3973433 words, 9279 sentences/s\n",
      "2019-09-11 09:23:50,923 : MainThread : INFO : PROGRESS : finished 1.32% with 90891 sentences and 7813793 words, 8898 sentences/s\n",
      "2019-09-11 09:23:55,944 : MainThread : INFO : PROGRESS : finished 1.94% with 133419 sentences and 11499391 words, 8505 sentences/s\n",
      "2019-09-11 09:24:00,945 : MainThread : INFO : PROGRESS : finished 2.54% with 174390 sentences and 14991984 words, 8194 sentences/s\n",
      "2019-09-11 09:24:05,959 : MainThread : INFO : PROGRESS : finished 3.13% with 215400 sentences and 18501777 words, 8202 sentences/s\n",
      "2019-09-11 09:24:10,975 : MainThread : INFO : PROGRESS : finished 3.72% with 255663 sentences and 21961357 words, 8052 sentences/s\n",
      "2019-09-11 09:24:15,996 : MainThread : INFO : PROGRESS : finished 4.33% with 298119 sentences and 25608371 words, 8491 sentences/s\n",
      "2019-09-11 09:24:21,003 : MainThread : INFO : PROGRESS : finished 4.94% with 340054 sentences and 29217644 words, 8387 sentences/s\n",
      "2019-09-11 09:24:26,022 : MainThread : INFO : PROGRESS : finished 5.56% with 382276 sentences and 32855309 words, 8444 sentences/s\n",
      "2019-09-11 09:24:31,027 : MainThread : INFO : PROGRESS : finished 6.14% with 422687 sentences and 36384061 words, 8082 sentences/s\n",
      "2019-09-11 09:24:36,040 : MainThread : INFO : PROGRESS : finished 6.77% with 465900 sentences and 40123810 words, 8642 sentences/s\n",
      "2019-09-11 09:24:41,042 : MainThread : INFO : PROGRESS : finished 7.41% with 509738 sentences and 43909291 words, 8767 sentences/s\n",
      "2019-09-11 09:24:46,045 : MainThread : INFO : PROGRESS : finished 8.02% with 551621 sentences and 47508374 words, 8376 sentences/s\n",
      "2019-09-11 09:24:51,057 : MainThread : INFO : PROGRESS : finished 8.63% with 593626 sentences and 51141193 words, 8401 sentences/s\n",
      "2019-09-11 09:24:56,078 : MainThread : INFO : PROGRESS : finished 9.28% with 638361 sentences and 54994826 words, 8947 sentences/s\n",
      "2019-09-11 09:25:01,080 : MainThread : INFO : PROGRESS : finished 9.93% with 682879 sentences and 58859919 words, 8903 sentences/s\n",
      "2019-09-11 09:25:06,093 : MainThread : INFO : PROGRESS : finished 10.55% with 725494 sentences and 62542563 words, 8523 sentences/s\n",
      "2019-09-11 09:25:11,101 : MainThread : INFO : PROGRESS : finished 11.17% with 768575 sentences and 66278860 words, 8616 sentences/s\n",
      "2019-09-11 09:25:16,118 : MainThread : INFO : PROGRESS : finished 11.75% with 808586 sentences and 69728874 words, 8002 sentences/s\n",
      "2019-09-11 09:25:21,120 : MainThread : INFO : PROGRESS : finished 12.36% with 850070 sentences and 73318657 words, 8296 sentences/s\n",
      "2019-09-11 09:25:26,125 : MainThread : INFO : PROGRESS : finished 12.98% with 893052 sentences and 77013354 words, 8596 sentences/s\n",
      "2019-09-11 09:25:31,137 : MainThread : INFO : PROGRESS : finished 13.61% with 936382 sentences and 80748146 words, 8666 sentences/s\n",
      "2019-09-11 09:25:36,150 : MainThread : INFO : PROGRESS : finished 14.25% with 979937 sentences and 84496549 words, 8711 sentences/s\n",
      "2019-09-11 09:25:41,182 : MainThread : INFO : PROGRESS : finished 14.89% with 1024147 sentences and 88291506 words, 8842 sentences/s\n",
      "2019-09-11 09:25:46,192 : MainThread : INFO : PROGRESS : finished 15.51% with 1066861 sentences and 91971201 words, 8542 sentences/s\n",
      "2019-09-11 09:25:51,207 : MainThread : INFO : PROGRESS : finished 16.11% with 1108161 sentences and 95548420 words, 8260 sentences/s\n",
      "2019-09-11 09:25:56,210 : MainThread : INFO : PROGRESS : finished 16.75% with 1152402 sentences and 99365788 words, 8848 sentences/s\n",
      "2019-09-11 09:26:01,218 : MainThread : INFO : PROGRESS : finished 17.44% with 1199841 sentences and 103495634 words, 9487 sentences/s\n",
      "2019-09-11 09:26:06,223 : MainThread : INFO : PROGRESS : finished 18.06% with 1242597 sentences and 107205795 words, 8551 sentences/s\n",
      "2019-09-11 09:26:11,238 : MainThread : INFO : PROGRESS : finished 18.71% with 1286721 sentences and 111011039 words, 8824 sentences/s\n",
      "2019-09-11 09:26:16,249 : MainThread : INFO : PROGRESS : finished 19.31% with 1328177 sentences and 114560833 words, 8291 sentences/s\n",
      "2019-09-11 09:26:21,262 : MainThread : INFO : PROGRESS : finished 19.96% with 1372951 sentences and 118396276 words, 8954 sentences/s\n",
      "2019-09-11 09:26:26,265 : MainThread : INFO : PROGRESS : finished 20.57% with 1414671 sentences and 121988560 words, 8344 sentences/s\n",
      "2019-09-11 09:26:31,320 : MainThread : INFO : PROGRESS : finished 21.18% with 1456693 sentences and 125626941 words, 8404 sentences/s\n",
      "2019-09-11 09:26:36,356 : MainThread : INFO : PROGRESS : finished 21.81% with 1500153 sentences and 129395122 words, 8692 sentences/s\n",
      "2019-09-11 09:26:41,426 : MainThread : INFO : PROGRESS : finished 22.38% with 1539618 sentences and 132819727 words, 7893 sentences/s\n",
      "2019-09-11 09:26:46,473 : MainThread : INFO : PROGRESS : finished 22.94% with 1578012 sentences and 136136077 words, 7678 sentences/s\n",
      "2019-09-11 09:26:51,499 : MainThread : INFO : PROGRESS : finished 23.55% with 1619729 sentences and 139746865 words, 8343 sentences/s\n",
      "2019-09-11 09:26:56,510 : MainThread : INFO : PROGRESS : finished 24.14% with 1660742 sentences and 143273071 words, 8202 sentences/s\n",
      "2019-09-11 09:27:01,523 : MainThread : INFO : PROGRESS : finished 24.71% with 1699556 sentences and 146654613 words, 7762 sentences/s\n",
      "2019-09-11 09:27:06,528 : MainThread : INFO : PROGRESS : finished 25.34% with 1743134 sentences and 150409689 words, 8715 sentences/s\n",
      "2019-09-11 09:27:11,541 : MainThread : INFO : PROGRESS : finished 25.95% with 1785083 sentences and 154059888 words, 8389 sentences/s\n",
      "2019-09-11 09:27:16,567 : MainThread : INFO : PROGRESS : finished 26.57% with 1827668 sentences and 157758467 words, 8517 sentences/s\n",
      "2019-09-11 09:27:21,584 : MainThread : INFO : PROGRESS : finished 27.18% with 1869561 sentences and 161328585 words, 8378 sentences/s\n",
      "2019-09-11 09:27:26,584 : MainThread : INFO : PROGRESS : finished 27.78% with 1910726 sentences and 164883199 words, 8233 sentences/s\n",
      "2019-09-11 09:27:31,602 : MainThread : INFO : PROGRESS : finished 28.35% with 1950417 sentences and 168256669 words, 7938 sentences/s\n",
      "2019-09-11 09:27:36,615 : MainThread : INFO : PROGRESS : finished 28.99% with 1994211 sentences and 172090372 words, 8758 sentences/s\n",
      "2019-09-11 09:27:41,628 : MainThread : INFO : PROGRESS : finished 29.60% with 2035923 sentences and 175675132 words, 8342 sentences/s\n",
      "2019-09-11 09:27:46,629 : MainThread : INFO : PROGRESS : finished 30.22% with 2078548 sentences and 179356339 words, 8525 sentences/s\n",
      "2019-09-11 09:27:51,659 : MainThread : INFO : PROGRESS : finished 30.83% with 2120837 sentences and 182994412 words, 8457 sentences/s\n",
      "2019-09-11 09:27:56,686 : MainThread : INFO : PROGRESS : finished 31.45% with 2163158 sentences and 186607083 words, 8464 sentences/s\n",
      "2019-09-11 09:28:01,694 : MainThread : INFO : PROGRESS : finished 32.09% with 2207323 sentences and 190469906 words, 8833 sentences/s\n",
      "2019-09-11 09:28:06,713 : MainThread : INFO : PROGRESS : finished 32.71% with 2250358 sentences and 194167408 words, 8607 sentences/s\n",
      "2019-09-11 09:28:11,725 : MainThread : INFO : PROGRESS : finished 33.32% with 2291882 sentences and 197770782 words, 8304 sentences/s\n",
      "2019-09-11 09:28:16,742 : MainThread : INFO : PROGRESS : finished 33.93% with 2333892 sentences and 201383221 words, 8402 sentences/s\n",
      "2019-09-11 09:28:21,766 : MainThread : INFO : PROGRESS : finished 34.53% with 2374905 sentences and 204946036 words, 8202 sentences/s\n",
      "2019-09-11 09:28:26,766 : MainThread : INFO : PROGRESS : finished 35.14% with 2417314 sentences and 208575129 words, 8481 sentences/s\n",
      "2019-09-11 09:28:31,768 : MainThread : INFO : PROGRESS : finished 35.74% with 2458461 sentences and 212113918 words, 8229 sentences/s\n",
      "2019-09-11 09:28:36,774 : MainThread : INFO : PROGRESS : finished 36.35% with 2500583 sentences and 215721558 words, 8424 sentences/s\n",
      "2019-09-11 09:28:41,777 : MainThread : INFO : PROGRESS : finished 36.97% with 2543306 sentences and 219441795 words, 8544 sentences/s\n",
      "2019-09-11 09:28:46,797 : MainThread : INFO : PROGRESS : finished 37.60% with 2586294 sentences and 223113914 words, 8597 sentences/s\n",
      "2019-09-11 09:28:51,798 : MainThread : INFO : PROGRESS : finished 38.22% with 2628931 sentences and 226763370 words, 8527 sentences/s\n",
      "2019-09-11 09:28:56,806 : MainThread : INFO : PROGRESS : finished 38.83% with 2670748 sentences and 230345191 words, 8363 sentences/s\n",
      "2019-09-11 09:29:01,810 : MainThread : INFO : PROGRESS : finished 39.48% with 2715738 sentences and 234240352 words, 8998 sentences/s\n",
      "2019-09-11 09:29:06,813 : MainThread : INFO : PROGRESS : finished 40.14% with 2761325 sentences and 238140641 words, 9117 sentences/s\n",
      "2019-09-11 09:29:11,816 : MainThread : INFO : PROGRESS : finished 40.75% with 2802946 sentences and 241736403 words, 8324 sentences/s\n",
      "2019-09-11 09:29:16,826 : MainThread : INFO : PROGRESS : finished 41.41% with 2848162 sentences and 245617945 words, 9043 sentences/s\n",
      "2019-09-11 09:29:21,842 : MainThread : INFO : PROGRESS : finished 42.03% with 2891151 sentences and 249342079 words, 8597 sentences/s\n",
      "2019-09-11 09:29:26,872 : MainThread : INFO : PROGRESS : finished 42.64% with 2933332 sentences and 253040212 words, 8436 sentences/s\n",
      "2019-09-11 09:29:31,892 : MainThread : INFO : PROGRESS : finished 43.26% with 2976070 sentences and 256716445 words, 8547 sentences/s\n",
      "2019-09-11 09:29:36,894 : MainThread : INFO : PROGRESS : finished 43.88% with 3018340 sentences and 260345961 words, 8454 sentences/s\n",
      "2019-09-11 09:29:41,923 : MainThread : INFO : PROGRESS : finished 44.51% with 3061800 sentences and 264078019 words, 8692 sentences/s\n",
      "2019-09-11 09:29:46,966 : MainThread : INFO : PROGRESS : finished 45.10% with 3102266 sentences and 267566128 words, 8093 sentences/s\n",
      "2019-09-11 09:29:51,988 : MainThread : INFO : PROGRESS : finished 45.72% with 3144804 sentences and 271230645 words, 8507 sentences/s\n",
      "2019-09-11 09:29:56,999 : MainThread : INFO : PROGRESS : finished 46.35% with 3188314 sentences and 274988235 words, 8702 sentences/s\n",
      "2019-09-11 09:30:02,003 : MainThread : INFO : PROGRESS : finished 46.94% with 3229001 sentences and 278484478 words, 8137 sentences/s\n",
      "2019-09-11 09:30:07,006 : MainThread : INFO : PROGRESS : finished 47.54% with 3269921 sentences and 282048151 words, 8184 sentences/s\n",
      "2019-09-11 09:30:12,037 : MainThread : INFO : PROGRESS : finished 48.16% with 3313030 sentences and 285730283 words, 8621 sentences/s\n",
      "2019-09-11 09:30:17,040 : MainThread : INFO : PROGRESS : finished 48.75% with 3353359 sentences and 289206681 words, 8065 sentences/s\n",
      "2019-09-11 09:30:22,044 : MainThread : INFO : PROGRESS : finished 49.36% with 3395293 sentences and 292829778 words, 8386 sentences/s\n",
      "2019-09-11 09:30:27,052 : MainThread : INFO : PROGRESS : finished 49.95% with 3435777 sentences and 296329010 words, 8096 sentences/s\n",
      "2019-09-11 09:30:32,073 : MainThread : INFO : PROGRESS : finished 50.62% with 3482353 sentences and 300338704 words, 9315 sentences/s\n",
      "2019-09-11 09:30:37,096 : MainThread : INFO : PROGRESS : finished 51.26% with 3526398 sentences and 304178880 words, 8809 sentences/s\n",
      "2019-09-11 09:30:42,100 : MainThread : INFO : PROGRESS : finished 51.88% with 3568883 sentences and 307851027 words, 8497 sentences/s\n",
      "2019-09-11 09:30:47,116 : MainThread : INFO : PROGRESS : finished 52.53% with 3613673 sentences and 311741506 words, 8958 sentences/s\n",
      "2019-09-11 09:30:52,118 : MainThread : INFO : PROGRESS : finished 53.14% with 3655472 sentences and 315366308 words, 8359 sentences/s\n",
      "2019-09-11 09:30:57,121 : MainThread : INFO : PROGRESS : finished 53.74% with 3696329 sentences and 318924298 words, 8171 sentences/s\n",
      "2019-09-11 09:31:02,129 : MainThread : INFO : PROGRESS : finished 54.34% with 3737658 sentences and 322508640 words, 8265 sentences/s\n",
      "2019-09-11 09:31:07,135 : MainThread : INFO : PROGRESS : finished 54.97% with 3781470 sentences and 326281736 words, 8762 sentences/s\n",
      "2019-09-11 09:31:12,138 : MainThread : INFO : PROGRESS : finished 55.60% with 3824302 sentences and 329985057 words, 8566 sentences/s\n",
      "2019-09-11 09:31:17,165 : MainThread : INFO : PROGRESS : finished 56.18% with 3864559 sentences and 333485270 words, 8051 sentences/s\n",
      "2019-09-11 09:31:22,176 : MainThread : INFO : PROGRESS : finished 56.78% with 3905526 sentences and 337012120 words, 8193 sentences/s\n",
      "2019-09-11 09:31:27,184 : MainThread : INFO : PROGRESS : finished 57.37% with 3946505 sentences and 340565315 words, 8195 sentences/s\n",
      "2019-09-11 09:31:32,195 : MainThread : INFO : PROGRESS : finished 57.99% with 3988878 sentences and 344215954 words, 8474 sentences/s\n",
      "2019-09-11 09:31:37,225 : MainThread : INFO : PROGRESS : finished 58.58% with 4029417 sentences and 347728645 words, 8107 sentences/s\n",
      "2019-09-11 09:31:42,263 : MainThread : INFO : PROGRESS : finished 59.17% with 4070454 sentences and 351256403 words, 8207 sentences/s\n",
      "2019-09-11 09:31:47,267 : MainThread : INFO : PROGRESS : finished 59.80% with 4113839 sentences and 355003847 words, 8677 sentences/s\n",
      "2019-09-11 09:31:52,275 : MainThread : INFO : PROGRESS : finished 60.41% with 4155770 sentences and 358681623 words, 8386 sentences/s\n",
      "2019-09-11 09:31:57,282 : MainThread : INFO : PROGRESS : finished 61.06% with 4200458 sentences and 362548561 words, 8937 sentences/s\n",
      "2019-09-11 09:32:02,298 : MainThread : INFO : PROGRESS : finished 61.68% with 4243047 sentences and 366209670 words, 8517 sentences/s\n",
      "2019-09-11 09:32:07,317 : MainThread : INFO : PROGRESS : finished 62.30% with 4285207 sentences and 369875136 words, 8432 sentences/s\n",
      "2019-09-11 09:32:12,332 : MainThread : INFO : PROGRESS : finished 62.90% with 4326854 sentences and 373486592 words, 8329 sentences/s\n",
      "2019-09-11 09:32:17,335 : MainThread : INFO : PROGRESS : finished 63.54% with 4371067 sentences and 377312341 words, 8842 sentences/s\n",
      "2019-09-11 09:32:22,341 : MainThread : INFO : PROGRESS : finished 64.17% with 4414299 sentences and 381057376 words, 8646 sentences/s\n",
      "2019-09-11 09:32:27,367 : MainThread : INFO : PROGRESS : finished 64.78% with 4456413 sentences and 384698714 words, 8422 sentences/s\n",
      "2019-09-11 09:32:32,392 : MainThread : INFO : PROGRESS : finished 65.43% with 4500997 sentences and 388557790 words, 8916 sentences/s\n",
      "2019-09-11 09:32:37,397 : MainThread : INFO : PROGRESS : finished 66.09% with 4546120 sentences and 392451238 words, 9024 sentences/s\n",
      "2019-09-11 09:32:42,430 : MainThread : INFO : PROGRESS : finished 66.72% with 4589197 sentences and 396182323 words, 8615 sentences/s\n",
      "2019-09-11 09:32:47,433 : MainThread : INFO : PROGRESS : finished 67.37% with 4634565 sentences and 400074063 words, 9073 sentences/s\n",
      "2019-09-11 09:32:52,446 : MainThread : INFO : PROGRESS : finished 68.01% with 4678505 sentences and 403853304 words, 8788 sentences/s\n",
      "2019-09-11 09:32:57,453 : MainThread : INFO : PROGRESS : finished 68.65% with 4722318 sentences and 407628866 words, 8762 sentences/s\n",
      "2019-09-11 09:33:02,491 : MainThread : INFO : PROGRESS : finished 69.26% with 4764142 sentences and 411272972 words, 8364 sentences/s\n",
      "2019-09-11 09:33:07,576 : MainThread : INFO : PROGRESS : finished 69.87% with 4806041 sentences and 414922706 words, 8379 sentences/s\n",
      "2019-09-11 09:33:12,588 : MainThread : INFO : PROGRESS : finished 70.51% with 4850333 sentences and 418727339 words, 8858 sentences/s\n",
      "2019-09-11 09:33:17,611 : MainThread : INFO : PROGRESS : finished 71.12% with 4891928 sentences and 422317022 words, 8319 sentences/s\n",
      "2019-09-11 09:33:22,614 : MainThread : INFO : PROGRESS : finished 71.76% with 4936488 sentences and 426116313 words, 8912 sentences/s\n",
      "2019-09-11 09:33:27,629 : MainThread : INFO : PROGRESS : finished 72.42% with 4981500 sentences and 429973157 words, 9002 sentences/s\n",
      "2019-09-11 09:33:32,644 : MainThread : INFO : PROGRESS : finished 73.00% with 5021249 sentences and 433428647 words, 7949 sentences/s\n",
      "2019-09-11 09:33:37,645 : MainThread : INFO : PROGRESS : finished 73.56% with 5060070 sentences and 436794819 words, 7764 sentences/s\n",
      "2019-09-11 09:33:42,671 : MainThread : INFO : PROGRESS : finished 74.16% with 5101376 sentences and 440381637 words, 8261 sentences/s\n",
      "2019-09-11 09:33:47,674 : MainThread : INFO : PROGRESS : finished 74.76% with 5142803 sentences and 443923626 words, 8285 sentences/s\n",
      "2019-09-11 09:33:52,697 : MainThread : INFO : PROGRESS : finished 75.35% with 5183454 sentences and 447492201 words, 8130 sentences/s\n",
      "2019-09-11 09:33:57,709 : MainThread : INFO : PROGRESS : finished 75.99% with 5227528 sentences and 451295003 words, 8814 sentences/s\n",
      "2019-09-11 09:34:02,714 : MainThread : INFO : PROGRESS : finished 76.62% with 5270186 sentences and 455007276 words, 8531 sentences/s\n",
      "2019-09-11 09:34:07,733 : MainThread : INFO : PROGRESS : finished 77.21% with 5310803 sentences and 458524589 words, 8123 sentences/s\n",
      "2019-09-11 09:34:12,742 : MainThread : INFO : PROGRESS : finished 77.84% with 5354237 sentences and 462252267 words, 8686 sentences/s\n",
      "2019-09-11 09:34:17,767 : MainThread : INFO : PROGRESS : finished 78.40% with 5392955 sentences and 465581179 words, 7743 sentences/s\n",
      "2019-09-11 09:34:22,786 : MainThread : INFO : PROGRESS : finished 78.97% with 5432506 sentences and 469019664 words, 7910 sentences/s\n",
      "2019-09-11 09:34:27,792 : MainThread : INFO : PROGRESS : finished 79.59% with 5474752 sentences and 472704262 words, 8449 sentences/s\n",
      "2019-09-11 09:34:32,805 : MainThread : INFO : PROGRESS : finished 80.21% with 5517482 sentences and 476402918 words, 8546 sentences/s\n",
      "2019-09-11 09:34:37,821 : MainThread : INFO : PROGRESS : finished 80.86% with 5562284 sentences and 480277499 words, 8960 sentences/s\n",
      "2019-09-11 09:34:42,823 : MainThread : INFO : PROGRESS : finished 81.51% with 5606917 sentences and 484083653 words, 8926 sentences/s\n",
      "2019-09-11 09:34:47,829 : MainThread : INFO : PROGRESS : finished 82.14% with 5650001 sentences and 487830542 words, 8616 sentences/s\n",
      "2019-09-11 09:34:52,842 : MainThread : INFO : PROGRESS : finished 82.73% with 5691052 sentences and 491396305 words, 8210 sentences/s\n",
      "2019-09-11 09:34:57,853 : MainThread : INFO : PROGRESS : finished 83.32% with 5731463 sentences and 494948925 words, 8082 sentences/s\n",
      "2019-09-11 09:35:02,863 : MainThread : INFO : PROGRESS : finished 83.98% with 5776697 sentences and 498847385 words, 9046 sentences/s\n",
      "2019-09-11 09:35:07,865 : MainThread : INFO : PROGRESS : finished 84.57% with 5817150 sentences and 502336129 words, 8090 sentences/s\n",
      "2019-09-11 09:35:12,889 : MainThread : INFO : PROGRESS : finished 85.17% with 5858473 sentences and 505854933 words, 8264 sentences/s\n",
      "2019-09-11 09:35:17,916 : MainThread : INFO : PROGRESS : finished 85.80% with 5901956 sentences and 509608741 words, 8696 sentences/s\n",
      "2019-09-11 09:35:22,923 : MainThread : INFO : PROGRESS : finished 86.43% with 5945385 sentences and 513384012 words, 8685 sentences/s\n",
      "2019-09-11 09:35:27,964 : MainThread : INFO : PROGRESS : finished 87.04% with 5987586 sentences and 517048177 words, 8440 sentences/s\n",
      "2019-09-11 09:35:32,974 : MainThread : INFO : PROGRESS : finished 87.68% with 6031377 sentences and 520838610 words, 8758 sentences/s\n",
      "2019-09-11 09:35:37,988 : MainThread : INFO : PROGRESS : finished 88.28% with 6072925 sentences and 524445098 words, 8309 sentences/s\n",
      "2019-09-11 09:35:42,989 : MainThread : INFO : PROGRESS : finished 88.92% with 6116695 sentences and 528236493 words, 8754 sentences/s\n",
      "2019-09-11 09:35:47,992 : MainThread : INFO : PROGRESS : finished 89.59% with 6162923 sentences and 532262558 words, 9245 sentences/s\n",
      "2019-09-11 09:35:53,005 : MainThread : INFO : PROGRESS : finished 90.20% with 6204770 sentences and 535845266 words, 8369 sentences/s\n",
      "2019-09-11 09:35:58,019 : MainThread : INFO : PROGRESS : finished 90.82% with 6247508 sentences and 539549098 words, 8547 sentences/s\n",
      "2019-09-11 09:36:03,021 : MainThread : INFO : PROGRESS : finished 91.43% with 6289088 sentences and 543131628 words, 8316 sentences/s\n",
      "2019-09-11 09:36:08,047 : MainThread : INFO : PROGRESS : finished 92.05% with 6332054 sentences and 546828577 words, 8593 sentences/s\n",
      "2019-09-11 09:36:13,063 : MainThread : INFO : PROGRESS : finished 92.67% with 6374500 sentences and 550474557 words, 8489 sentences/s\n",
      "2019-09-11 09:36:18,065 : MainThread : INFO : PROGRESS : finished 93.29% with 6416977 sentences and 554125635 words, 8495 sentences/s\n",
      "2019-09-11 09:36:23,067 : MainThread : INFO : PROGRESS : finished 93.91% with 6460167 sentences and 557827132 words, 8638 sentences/s\n",
      "2019-09-11 09:36:28,082 : MainThread : INFO : PROGRESS : finished 94.54% with 6502903 sentences and 561553009 words, 8547 sentences/s\n",
      "2019-09-11 09:36:33,085 : MainThread : INFO : PROGRESS : finished 95.16% with 6546012 sentences and 565299224 words, 8621 sentences/s\n",
      "2019-09-11 09:36:38,107 : MainThread : INFO : PROGRESS : finished 95.77% with 6588153 sentences and 568922352 words, 8428 sentences/s\n",
      "2019-09-11 09:36:43,120 : MainThread : INFO : PROGRESS : finished 96.40% with 6631227 sentences and 572647527 words, 8614 sentences/s\n",
      "2019-09-11 09:36:48,137 : MainThread : INFO : PROGRESS : finished 97.09% with 6678564 sentences and 576719679 words, 9467 sentences/s\n",
      "2019-09-11 09:36:53,142 : MainThread : INFO : PROGRESS : finished 97.70% with 6720914 sentences and 580380095 words, 8470 sentences/s\n",
      "2019-09-11 09:36:58,157 : MainThread : INFO : PROGRESS : finished 98.32% with 6763416 sentences and 584054961 words, 8500 sentences/s\n",
      "2019-09-11 09:37:03,160 : MainThread : INFO : PROGRESS : finished 98.97% with 6807848 sentences and 587887064 words, 8886 sentences/s\n",
      "2019-09-11 09:37:08,176 : MainThread : INFO : PROGRESS : finished 99.56% with 6848204 sentences and 591392231 words, 8071 sentences/s\n",
      "2019-09-11 09:37:11,268 : MainThread : INFO : worker thread finished; awaiting finish of 3 more threads\n",
      "2019-09-11 09:37:11,279 : MainThread : INFO : worker thread finished; awaiting finish of 2 more threads\n",
      "2019-09-11 09:37:11,281 : MainThread : INFO : worker thread finished; awaiting finish of 1 more threads\n",
      "2019-09-11 09:37:11,283 : MainThread : INFO : worker thread finished; awaiting finish of 0 more threads\n",
      "2019-09-11 09:37:12,670 : MainThread : INFO : computing 10 principal components took 1s\n",
      "2019-09-11 09:37:12,772 : MainThread : INFO : removing 10 principal components took 0s\n",
      "2019-09-11 09:37:12,774 : MainThread : INFO : training on 6875530 effective sentences with 593774622 effective words took 810s with 8482 sentences/s\n"
     ]
    },
    {
     "data": {
      "text/plain": [
       "(6875530, 593774622)"
      ]
     },
     "execution_count": 11,
     "metadata": {},
     "output_type": "execute_result"
    }
   ],
   "source": [
    "model = SIF(ft, components=10, workers=4)\n",
    "model.train(indexed_reviews)"
   ]
  },
  {
   "cell_type": "code",
   "execution_count": 12,
   "metadata": {},
   "outputs": [],
   "source": [
    "model.sv.vectors = model.sv.vectors.astype('float64')"
   ]
  },
  {
   "cell_type": "code",
   "execution_count": 13,
   "metadata": {},
   "outputs": [],
   "source": [
    "import sys; sys.path.append('/home/ubuntu/FIt-SNE')\n",
    "from fast_tsne import fast_tsne\n",
    "\n",
    "mapping = fast_tsne(model.sv.vectors, perplexity=50, seed=42)"
   ]
  },
  {
   "cell_type": "code",
   "execution_count": 14,
   "metadata": {},
   "outputs": [],
   "source": [
    "import matplotlib.pyplot as plt\n",
    "\n",
    "col = np.array(['#a6cee3','#1f78b4','#b2df8a','#33a02c','#fb9a99', '#e31a1c','#fdbf6f','#ff7f00','#cab2d6','#6a3d9a'])\n",
    "\n",
    "plt.figure(figsize=(5,5))\n",
    "plt.scatter(mapping[:,0], mapping[:,1],  s=1)\n",
    "plt.tight_layout()"
   ]
  },
  {
   "cell_type": "code",
   "execution_count": 15,
   "metadata": {},
   "outputs": [],
   "source": [
    "def filter_cat(input):\n",
    "    if len(input):\n",
    "        return input[0][1]\n",
    "    else:\n",
    "        return \"None\""
   ]
  },
  {
   "cell_type": "code",
   "execution_count": 16,
   "metadata": {},
   "outputs": [],
   "source": [
    "df = pd.DataFrame()\n",
    "\n",
    "df[\"x\"] = mapping[:,0]\n",
    "df[\"y\"] = mapping[:,1]\n",
    "df.index = IDX_TO_ASIN[:len(mapping)]\n",
    "\n",
    "viz = df.join(meta[[\"title\", \"price\", \"brand\", \"description\", \"categories\"]], how=\"left\")\n",
    "viz[\"prime_cat\"] = viz.categories.apply(filter_cat)\n",
    "viz[\"reviews\"] = [ASIN_TO_COUNT[asin] for asin in viz.index]"
   ]
  },
  {
   "cell_type": "code",
   "execution_count": 17,
   "metadata": {},
   "outputs": [],
   "source": [
    "import html\n",
    "\n",
    "for col in [\"title\", \"brand\"]:\n",
    "    for i in range(len(viz)):\n",
    "        try:\n",
    "            viz[col].iat[i] = html.unescape(viz[col].iat[i])\n",
    "        except:\n",
    "            pass"
   ]
  },
  {
   "cell_type": "code",
   "execution_count": 18,
   "metadata": {},
   "outputs": [],
   "source": [
    "viz.to_excel(\"tableau.xlsx\")"
   ]
  },
  {
   "cell_type": "code",
   "execution_count": null,
   "metadata": {},
   "outputs": [],
   "source": []
  }
 ],
 "metadata": {
  "kernelspec": {
   "display_name": "Python 3",
   "language": "python",
   "name": "python3"
  },
  "language_info": {
   "codemirror_mode": {
    "name": "ipython",
    "version": 3
   },
   "file_extension": ".py",
   "mimetype": "text/x-python",
   "name": "python",
   "nbconvert_exporter": "python",
   "pygments_lexer": "ipython3",
   "version": "3.7.3"
  }
 },
 "nbformat": 4,
 "nbformat_minor": 4
}
